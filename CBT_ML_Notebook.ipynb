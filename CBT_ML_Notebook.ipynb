{
  "nbformat": 4,
  "nbformat_minor": 0,
  "metadata": {
    "colab": {
      "provenance": []
    },
    "kernelspec": {
      "name": "python3",
      "display_name": "Python 3"
    },
    "language_info": {
      "name": "python"
    }
  },
  "cells": [
    {
      "cell_type": "markdown",
      "source": [
        "#CBT Cognitive Distortion & Sentiment Analyzer\n",
        "\n",
        "This Python script leverages pre-trained language models and regex patterns to help users identify common cognitive distortions in their thoughts and understand the overall sentiment expressed.\n",
        "\n",
        "##Features:\n",
        "\n",
        "Cognitive Distortion Detection: Uses regular expressions to detect classic thinking errors like all-or-nothing thinking, catastrophizing, personalization, and more.\n",
        "\n",
        "Sentiment Analysis: Employs a pre-trained DistilBERT model fine-tuned for sentiment classification to automatically label inputs as positive or negative with confidence scores.\n",
        "\n",
        "Refined Emotional Reasoning Detection: Special handling for “I feel...” statements, ignoring neutral feelings such as “okay” or “fine” to reduce false positives.\n",
        "\n",
        "Interactive User Input: Accepts user thoughts interactively with an option to exit the program.\n",
        "\n",
        "Reframe Suggestions: Provides helpful suggestions to rethink and challenge detected distortions."
      ],
      "metadata": {
        "id": "Um8cZvgKfAzp"
      }
    },
    {
      "cell_type": "markdown",
      "source": [
        "Importing dependencies..."
      ],
      "metadata": {
        "id": "EyWear2we5PV"
      }
    },
    {
      "cell_type": "code",
      "execution_count": null,
      "metadata": {
        "id": "sltWltt3XrBu"
      },
      "outputs": [],
      "source": [
        "!pip install transformers -q"
      ]
    },
    {
      "cell_type": "code",
      "source": [
        "import re\n",
        "from transformers import pipeline"
      ],
      "metadata": {
        "id": "vow31zAAfWYX"
      },
      "execution_count": null,
      "outputs": []
    },
    {
      "cell_type": "markdown",
      "source": [
        "Below we load a pretrained DistilBERT model fine-tuned on SST-2 dataset for binary sentiment classification (positive/negative).\n",
        "\n",
        "Runs locally without requiring API keys."
      ],
      "metadata": {
        "id": "Fdq5vjMXfcIq"
      }
    },
    {
      "cell_type": "code",
      "source": [
        "# Load the emotion classifier pipeline\n",
        "emotion_classifier = pipeline(\"text-classification\", model=\"j-hartmann/emotion-english-distilroberta-base\", return_all_scores=True)\n"
      ],
      "metadata": {
        "id": "HtUxE9QGfaaS"
      },
      "execution_count": null,
      "outputs": []
    },
    {
      "cell_type": "markdown",
      "source": [
        "##Define Cognitive Distortion Patterns and Suggestions\n",
        "\n",
        "`distortion_patterns`: Dictionary where each cognitive distortion maps to a list of regex patterns to detect it.\n",
        "\n",
        "`reframe_suggestions`: Helpful advice to challenge and reframe distorted thinking.\n",
        "\n",
        "`neutral_feelings`: List of words considered neutral feelings to avoid false flags in emotional reasoning."
      ],
      "metadata": {
        "id": "gkFkJTbUfik2"
      }
    },
    {
      "cell_type": "code",
      "source": [
        "# Load pre-trained sentiment analysis pipeline\n",
        "sentiment_analyzer = pipeline(\"sentiment-analysis\", model=\"distilbert-base-uncased-finetuned-sst-2-english\")\n",
        "\n",
        "# Cognitive distortion patterns (your updated version)\n",
        "distortion_patterns = {\n",
        "    \"All-or-Nothing Thinking\": [\n",
        "        r\"\\balways\\b\",\n",
        "        r\"\\bnever\\b\",\n",
        "        r\"\\bcompletely\\b\",\n",
        "        r\"\\btotally\\b\",\n",
        "        r\"\\beveryone\\b\",\n",
        "        r\"\\bnobody\\b\",\n",
        "        r\"\\b(can't|cannot) do anything\\b\",\n",
        "        r\"\\b(can't|cannot) .* right\\b\",\n",
        "        r\"\\b(none|nothing) works\\b\"\n",
        "    ],\n",
        "    \"Catastrophizing\": [\n",
        "        r\"\\bworst\\b\",\n",
        "        r\"\\bdisaster\\b\",\n",
        "        r\"\\bruined\\b\",\n",
        "        r\"\\bcannot handle\\b\",\n",
        "        r\"\\beverything is\\b\",\n",
        "        r\"\\bgoing to fail\\b\"\n",
        "    ],\n",
        "    \"Overgeneralization\": [\n",
        "        r\"\\beveryone\\b\",\n",
        "        r\"\\bno one\\b\",\n",
        "        r\"\\balways\\b\",\n",
        "        r\"\\bnever\\b\",\n",
        "        r\"\\b(can't|cannot) do anything\\b\"\n",
        "    ],\n",
        "    \"Mental Filter\": [\n",
        "        r\"\\bonly\\b\",\n",
        "        r\"\\bjust\\b\",\n",
        "        r\"\\balways\\b\"\n",
        "    ],\n",
        "    \"Should Statements\": [\n",
        "        r\"\\bshould\\b\",\n",
        "        r\"\\bmust\\b\",\n",
        "        r\"\\bhave to\\b\"\n",
        "    ],\n",
        "    \"Personalization\": [\n",
        "        r\"\\bit'?s my fault\\b\",\n",
        "        r\"\\bi caused\\b\",\n",
        "        r\"\\bit'?s because of me\\b\"\n",
        "    ],\n",
        "    \"Mind Reading\": [\n",
        "        r\"\\bthey think\\b\",\n",
        "        r\"\\bthey believe\\b\",\n",
        "        r\"\\bthey don'?t like\\b\",\n",
        "        r\"\\bpeople think\\b\"\n",
        "    ],\n",
        "    \"Labeling\": [\n",
        "        r\"\\bi'?m a loser\\b\",\n",
        "        r\"\\bhe'?s a failure\\b\",\n",
        "        r\"\\bshe'?s useless\\b\",\n",
        "        r\"\\bi am worthless\\b\",\n",
        "        r\"\\bi'?m worthless\\b\"\n",
        "    ],\n",
        "    \"Magnification / Minimization\": [\n",
        "        r\"\\bexaggerate\\b\",\n",
        "        r\"\\btrivialize\\b\",\n",
        "        r\"\\boverreact\\b\",\n",
        "        r\"\\bmake a big deal\\b\"\n",
        "    ]\n",
        "}\n",
        "\n",
        "reframe_suggestions = {\n",
        "    \"All-or-Nothing Thinking\": \"Look for shades of gray. Are there exceptions or partial truths?\",\n",
        "    \"Catastrophizing\": \"Consider more realistic, less extreme outcomes.\",\n",
        "    \"Overgeneralization\": \"Avoid sweeping conclusions; focus on specific facts.\",\n",
        "    \"Mental Filter\": \"Try to see the whole picture, not just the negatives.\",\n",
        "    \"Should Statements\": \"Replace 'should' with preferences or choices to reduce pressure.\",\n",
        "    \"Personalization\": \"Consider other factors beyond yourself that may have contributed.\",\n",
        "    \"Mind Reading\": \"Avoid assuming you know what others think; check the facts.\",\n",
        "    \"Emotional Reasoning\": \"Feelings are valid but aren’t always facts; look for evidence.\",\n",
        "    \"Labeling\": \"Focus on specific behaviors rather than global labels.\",\n",
        "    \"Magnification / Minimization\": \"Try to keep problems and successes in balanced perspective.\"\n",
        "}\n",
        "\n",
        "neutral_feelings = {\"okay\", \"fine\", \"good\", \"alright\", \"well\", \"normal\", \"decent\", \"not bad\"}\n"
      ],
      "metadata": {
        "id": "kUiQ4nwabKHn"
      },
      "execution_count": null,
      "outputs": []
    },
    {
      "cell_type": "markdown",
      "source": [
        "Below is the code for detecting emotional reasoning and cognitive distortions:"
      ],
      "metadata": {
        "id": "dcjW3JBSf1L3"
      }
    },
    {
      "cell_type": "code",
      "source": [
        "def detect_emotional_reasoning(text):\n",
        "    text = text.lower()\n",
        "    pattern = r\"\\bi feel (\\w+)\"\n",
        "    matches = re.findall(pattern, text)\n",
        "    for feeling in matches:\n",
        "        if feeling not in neutral_feelings:\n",
        "            return True\n",
        "    return False\n",
        "\n",
        "def detect_distortions(text):\n",
        "    text = text.lower()\n",
        "    found_distortions = {}\n",
        "\n",
        "    for distortion, patterns in distortion_patterns.items():\n",
        "        if distortion == \"Emotional Reasoning\":\n",
        "            continue\n",
        "\n",
        "        matches = []\n",
        "        for pattern in patterns:\n",
        "            if re.search(pattern, text):\n",
        "                display_pattern = pattern.replace(r\"\\b\", \"\").replace(r\"(?:\", \"\").replace(r\")\", \"\").replace(r\"\\\\\", \"\")\n",
        "                matches.append(display_pattern)\n",
        "        if matches:\n",
        "            found_distortions[distortion] = matches\n",
        "\n",
        "    # Emotional Reasoning separately\n",
        "    if detect_emotional_reasoning(text):\n",
        "        found_distortions[\"Emotional Reasoning\"] = [\"i feel <negative feeling>\"]\n",
        "\n",
        "    return found_distortions\n",
        "\n",
        "def analyze_cbt_thought(text):\n",
        "    distortions_found = detect_distortions(text)\n",
        "    if distortions_found:\n",
        "        print(\"\\nCognitive Distortions Detected:\")\n",
        "        for dist, matches in distortions_found.items():\n",
        "            print(f\"\\n- {dist}:\")\n",
        "            print(f\"  Trigger phrases matched: {', '.join(matches)}\")\n",
        "            print(f\"  Reframe suggestion: {reframe_suggestions.get(dist, 'Try to rethink this thought.')}\")\n",
        "    else:\n",
        "        print(\"\\nNo common cognitive distortions detected. Keep it balanced!\")\n",
        "\n",
        "def analyze_with_sentiment(text):\n",
        "    # Sentiment analysis using pre-trained model\n",
        "    result = sentiment_analyzer(text)[0]\n",
        "    label = result['label']   # 'POSITIVE' or 'NEGATIVE'\n",
        "    score = result['score']\n",
        "\n",
        "    print(f\"\\nSentiment Analysis: {label} (Confidence: {score:.2f})\")\n",
        "\n",
        "    # Cognitive distortions check\n",
        "    analyze_cbt_thought(text)\n",
        "\n"
      ],
      "metadata": {
        "id": "pq3sNoQYdK-n"
      },
      "execution_count": null,
      "outputs": []
    },
    {
      "cell_type": "markdown",
      "source": [
        "Testing user input:"
      ],
      "metadata": {
        "id": "hhdKlwtof62k"
      }
    },
    {
      "cell_type": "code",
      "source": [
        "print(\"Welcome to the CBT Cognitive Distortion + Sentiment Analyzer!\")\n",
        "print(\"Type your thought below and press Enter. Type 'exit' to quit.\\n\")\n",
        "\n",
        "while True:\n",
        "    user_input = input(\"Enter your thought: \")\n",
        "    if user_input.strip().lower() == \"exit\":\n",
        "        print(\"Goodbye! Take care.\")\n",
        "        break\n",
        "    analyze_with_sentiment(user_input)\n"
      ],
      "metadata": {
        "id": "WXBb3HojdNqM"
      },
      "execution_count": null,
      "outputs": []
    }
  ]
}